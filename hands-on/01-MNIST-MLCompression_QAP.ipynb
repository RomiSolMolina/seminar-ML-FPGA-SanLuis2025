{
 "cells": [
  {
   "cell_type": "markdown",
   "metadata": {},
   "source": [
    "## Seminar - ML + SoC \n",
    "### Based on the training \"From Algorithm to Hardware: Machine Learning in Embedded Systems\"\n",
    "\n",
    "##### San Luis, Argentina - 2025\n",
    "\n",
    "-------"
   ]
  },
  {
   "cell_type": "markdown",
   "metadata": {},
   "source": [
    "#### Libraries"
   ]
  },
  {
   "cell_type": "code",
   "execution_count": 10,
   "metadata": {},
   "outputs": [],
   "source": [
    "import os\n",
    "import numpy as np\n",
    "from numpy import array\n",
    "import matplotlib.pyplot as plt\n",
    "import seaborn as sn\n",
    "import pandas as pd\n",
    "\n",
    "## Tensorflow + Keras libraries\n",
    "import tensorflow as tf\n",
    "from tensorflow import keras\n",
    "from tensorflow.keras import Sequential\n",
    "from tensorflow.keras.models import *\n",
    "from tensorflow.keras.layers import *\n",
    "from tensorflow.keras.utils import to_categorical\n",
    "from tensorflow.keras.optimizers import SGD, Adam\n",
    "import tensorflow_model_optimization as tfmot\n",
    "from tensorflow_model_optimization.python.core.sparsity.keras import prune, pruning_callbacks, pruning_schedule\n",
    "from tensorflow_model_optimization.sparsity.keras import strip_pruning\n",
    "\n",
    "## Quantization\n",
    "from qkeras import *\n",
    "\n",
    "## Datasets\n",
    "from tensorflow.keras.datasets import cifar10\n",
    "from tensorflow.keras.datasets import cifar100\n",
    "from tensorflow.keras.datasets import mnist\n",
    "from tensorflow.keras.datasets import fashion_mnist\n",
    "\n",
    "from distillationClassKeras import *\n",
    "from sklearn.metrics import confusion_matrix, ConfusionMatrixDisplay"
   ]
  },
  {
   "cell_type": "markdown",
   "metadata": {},
   "source": [
    "#### Enable GPU "
   ]
  },
  {
   "cell_type": "code",
   "execution_count": 11,
   "metadata": {},
   "outputs": [
    {
     "name": "stdout",
     "output_type": "stream",
     "text": [
      "GPUs:  1\n"
     ]
    }
   ],
   "source": [
    "# GPU\n",
    "os.environ['TF_XLA_FLAGS'] = '--tf_xla_enable_xla_devices'\n",
    "\n",
    "import tensorflow as tf\n",
    "print(\"GPUs: \", len(tf.config.experimental.list_physical_devices('GPU')))\n",
    "\n",
    "import tensorflow as tf\n",
    "gpus = tf.config.experimental.list_physical_devices('GPU')\n",
    "if gpus:\n",
    "    try:\n",
    "        for gpu in gpus:\n",
    "            tf.config.experimental.set_memory_growth(gpu, True)\n",
    "\n",
    "    except RuntimeError as e:\n",
    "        print(e)"
   ]
  },
  {
   "cell_type": "markdown",
   "metadata": {},
   "source": [
    "### Model compression\n"
   ]
  },
  {
   "cell_type": "markdown",
   "metadata": {},
   "source": [
    "#### Load dataset"
   ]
  },
  {
   "cell_type": "code",
   "execution_count": 12,
   "metadata": {},
   "outputs": [],
   "source": [
    "# Cargar dataset MNIST\n",
    "(x_train, y_train), (x_test, y_test) = keras.datasets.mnist.load_data()\n",
    "x_train, x_test = x_train / 255.0, x_test / 255.0            # Normalización"
   ]
  },
  {
   "cell_type": "markdown",
   "metadata": {},
   "source": [
    "##### Label selection for the binary classification\n",
    "\n",
    "Filter images that only contain numbers 1 and 9\n"
   ]
  },
  {
   "cell_type": "code",
   "execution_count": 13,
   "metadata": {},
   "outputs": [],
   "source": [
    "train_filter = np.where((y_train == 1) | (y_train == 9))\n",
    "test_filter = np.where((y_test == 1) | (y_test == 9))\n",
    "\n",
    "x_train = x_train[train_filter]\n",
    "y_train = y_train[train_filter]\n",
    "x_test = x_test[test_filter]\n",
    "y_test = y_test[test_filter]"
   ]
  },
  {
   "cell_type": "code",
   "execution_count": 14,
   "metadata": {},
   "outputs": [],
   "source": [
    "# Labels to binary format\n",
    "y_train_binary = np.where(y_train == 1, 0, 1)  # 1 -> 0, 9 -> 1\n",
    "y_test_binary = np.where(y_test == 1, 0, 1)  # 1 -> 0, 9 -> 1"
   ]
  },
  {
   "cell_type": "code",
   "execution_count": 15,
   "metadata": {},
   "outputs": [],
   "source": [
    "# One-hot Encoding\n",
    "y_train_binary = to_categorical(y_train_binary, num_classes=2, dtype=int)\n",
    "y_test_binary = to_categorical(y_test_binary, num_classes=2, dtype=int)"
   ]
  },
  {
   "cell_type": "markdown",
   "metadata": {},
   "source": [
    "### Model definition\n",
    "\n",
    "The architecture is defined in a quantized manner"
   ]
  },
  {
   "cell_type": "code",
   "execution_count": 16,
   "metadata": {},
   "outputs": [],
   "source": [
    "\n",
    "def build_model():\n",
    "    # Fixed point precision\n",
    "    kernelQ = \"quantized_bits(8,3,alpha=1)\"\n",
    "    biasQ = \"quantized_bits(8, 3,alpha=1)\"\n",
    "    activationQ = 'quantized_bits(16,6)'\n",
    "\n",
    "    modelQ = Sequential(\n",
    "                [   \n",
    "                    \n",
    "                    QDense(5, name='fc1_input',\n",
    "                            input_shape=(28 * 28,),\n",
    "                            kernel_quantizer= kernelQ, bias_quantizer= biasQ,\n",
    "                            kernel_initializer='lecun_uniform'),\n",
    "                    QActivation(activation= activationQ ,  name='relu_input'),\n",
    "\n",
    "                    QDense(7, name='fc1',\n",
    "                            kernel_quantizer= kernelQ, bias_quantizer= biasQ,\n",
    "                            kernel_initializer='lecun_uniform'),\n",
    "                    QActivation(activation= activationQ ,  name='relu1'),\n",
    "\n",
    "                    QDense(10, name='fc2',\n",
    "                            kernel_quantizer= kernelQ, bias_quantizer= biasQ,\n",
    "                            kernel_initializer='lecun_uniform'),\n",
    "                    QActivation(activation= activationQ ,  name='relu2'),\n",
    "                    \n",
    "                    QDense(2, name='output',\n",
    "                            kernel_quantizer= kernelQ, bias_quantizer= biasQ,\n",
    "                            kernel_initializer='lecun_uniform'),\n",
    "                    Activation(activation='sigmoid', name='sigmoid')\n",
    "                \n",
    "                ],\n",
    "\n",
    "            )\n",
    "    return modelQ\n",
    "\n"
   ]
  },
  {
   "cell_type": "code",
   "execution_count": 17,
   "metadata": {},
   "outputs": [],
   "source": [
    "x_train = x_train.reshape(x_train.shape[0], 28 * 28)\n",
    "x_test = x_test.reshape(x_test.shape[0], 28 * 28)"
   ]
  },
  {
   "cell_type": "markdown",
   "metadata": {},
   "source": [
    "### Build model"
   ]
  },
  {
   "cell_type": "code",
   "execution_count": 18,
   "metadata": {},
   "outputs": [
    {
     "name": "stderr",
     "output_type": "stream",
     "text": [
      "2025-04-14 20:23:07.593898: I tensorflow/core/platform/cpu_feature_guard.cc:142] This TensorFlow binary is optimized with oneAPI Deep Neural Network Library (oneDNN) to use the following CPU instructions in performance-critical operations:  SSE4.1 SSE4.2 AVX AVX2 AVX512F FMA\n",
      "To enable them in other operations, rebuild TensorFlow with the appropriate compiler flags.\n",
      "2025-04-14 20:23:07.619293: I tensorflow/core/platform/profile_utils/cpu_utils.cc:112] CPU Frequency: 2304000000 Hz\n",
      "2025-04-14 20:23:07.619817: I tensorflow/compiler/xla/service/service.cc:168] XLA service 0x2fb91f50 initialized for platform Host (this does not guarantee that XLA will be used). Devices:\n",
      "2025-04-14 20:23:07.619835: I tensorflow/compiler/xla/service/service.cc:176]   StreamExecutor device (0): Host, Default Version\n",
      "2025-04-14 20:23:07.672008: I tensorflow/stream_executor/cuda/cuda_gpu_executor.cc:941] successful NUMA node read from SysFS had negative value (-1), but there must be at least one NUMA node, so returning NUMA node zero\n",
      "2025-04-14 20:23:07.672217: I tensorflow/compiler/xla/service/service.cc:168] XLA service 0x2fbf6b90 initialized for platform CUDA (this does not guarantee that XLA will be used). Devices:\n",
      "2025-04-14 20:23:07.672232: I tensorflow/compiler/xla/service/service.cc:176]   StreamExecutor device (0): NVIDIA GeForce GTX 1650 with Max-Q Design, Compute Capability 7.5\n",
      "2025-04-14 20:23:07.672401: I tensorflow/stream_executor/cuda/cuda_gpu_executor.cc:941] successful NUMA node read from SysFS had negative value (-1), but there must be at least one NUMA node, so returning NUMA node zero\n",
      "2025-04-14 20:23:07.672499: I tensorflow/core/common_runtime/gpu/gpu_device.cc:1720] Found device 0 with properties: \n",
      "pciBusID: 0000:01:00.0 name: NVIDIA GeForce GTX 1650 with Max-Q Design computeCapability: 7.5\n",
      "coreClock: 1.155GHz coreCount: 14 deviceMemorySize: 3.81GiB deviceMemoryBandwidth: 149.04GiB/s\n",
      "2025-04-14 20:23:07.672529: I tensorflow/stream_executor/platform/default/dso_loader.cc:49] Successfully opened dynamic library libcudart.so.10.1\n",
      "2025-04-14 20:23:07.672542: I tensorflow/stream_executor/platform/default/dso_loader.cc:49] Successfully opened dynamic library libcublas.so.10\n",
      "2025-04-14 20:23:07.672550: I tensorflow/stream_executor/platform/default/dso_loader.cc:49] Successfully opened dynamic library libcublasLt.so.10\n",
      "2025-04-14 20:23:07.672557: I tensorflow/stream_executor/platform/default/dso_loader.cc:49] Successfully opened dynamic library libcufft.so.10\n",
      "2025-04-14 20:23:07.672565: I tensorflow/stream_executor/platform/default/dso_loader.cc:49] Successfully opened dynamic library libcurand.so.10\n",
      "2025-04-14 20:23:07.672572: I tensorflow/stream_executor/platform/default/dso_loader.cc:49] Successfully opened dynamic library libcusolver.so.10\n",
      "2025-04-14 20:23:07.672579: I tensorflow/stream_executor/platform/default/dso_loader.cc:49] Successfully opened dynamic library libcusparse.so.10\n",
      "2025-04-14 20:23:07.672586: I tensorflow/stream_executor/platform/default/dso_loader.cc:49] Successfully opened dynamic library libcudnn.so.7\n",
      "2025-04-14 20:23:07.672623: I tensorflow/stream_executor/cuda/cuda_gpu_executor.cc:941] successful NUMA node read from SysFS had negative value (-1), but there must be at least one NUMA node, so returning NUMA node zero\n",
      "2025-04-14 20:23:07.672708: I tensorflow/stream_executor/cuda/cuda_gpu_executor.cc:941] successful NUMA node read from SysFS had negative value (-1), but there must be at least one NUMA node, so returning NUMA node zero\n",
      "2025-04-14 20:23:07.672771: I tensorflow/core/common_runtime/gpu/gpu_device.cc:1862] Adding visible gpu devices: 0\n",
      "2025-04-14 20:23:07.672791: I tensorflow/stream_executor/platform/default/dso_loader.cc:49] Successfully opened dynamic library libcudart.so.10.1\n",
      "2025-04-14 20:23:07.957267: I tensorflow/core/common_runtime/gpu/gpu_device.cc:1261] Device interconnect StreamExecutor with strength 1 edge matrix:\n",
      "2025-04-14 20:23:07.957298: I tensorflow/core/common_runtime/gpu/gpu_device.cc:1267]      0 \n",
      "2025-04-14 20:23:07.957302: I tensorflow/core/common_runtime/gpu/gpu_device.cc:1280] 0:   N \n",
      "2025-04-14 20:23:07.957539: I tensorflow/stream_executor/cuda/cuda_gpu_executor.cc:941] successful NUMA node read from SysFS had negative value (-1), but there must be at least one NUMA node, so returning NUMA node zero\n",
      "2025-04-14 20:23:07.957671: I tensorflow/stream_executor/cuda/cuda_gpu_executor.cc:941] successful NUMA node read from SysFS had negative value (-1), but there must be at least one NUMA node, so returning NUMA node zero\n",
      "2025-04-14 20:23:07.957759: I tensorflow/core/common_runtime/gpu/gpu_device.cc:1406] Created TensorFlow device (/job:localhost/replica:0/task:0/device:GPU:0 with 3406 MB memory) -> physical GPU (device: 0, name: NVIDIA GeForce GTX 1650 with Max-Q Design, pci bus id: 0000:01:00.0, compute capability: 7.5)\n"
     ]
    }
   ],
   "source": [
    "modelQ = build_model()"
   ]
  },
  {
   "cell_type": "code",
   "execution_count": 19,
   "metadata": {},
   "outputs": [
    {
     "name": "stdout",
     "output_type": "stream",
     "text": [
      "Model: \"sequential\"\n",
      "_________________________________________________________________\n",
      "Layer (type)                 Output Shape              Param #   \n",
      "=================================================================\n",
      "fc1_input (QDense)           (None, 5)                 3925      \n",
      "_________________________________________________________________\n",
      "relu_input (QActivation)     (None, 5)                 0         \n",
      "_________________________________________________________________\n",
      "fc1 (QDense)                 (None, 7)                 42        \n",
      "_________________________________________________________________\n",
      "relu1 (QActivation)          (None, 7)                 0         \n",
      "_________________________________________________________________\n",
      "fc2 (QDense)                 (None, 10)                80        \n",
      "_________________________________________________________________\n",
      "relu2 (QActivation)          (None, 10)                0         \n",
      "_________________________________________________________________\n",
      "output (QDense)              (None, 2)                 22        \n",
      "_________________________________________________________________\n",
      "sigmoid (Activation)         (None, 2)                 0         \n",
      "=================================================================\n",
      "Total params: 4,069\n",
      "Trainable params: 4,069\n",
      "Non-trainable params: 0\n",
      "_________________________________________________________________\n"
     ]
    }
   ],
   "source": [
    "modelQ.summary()"
   ]
  },
  {
   "cell_type": "markdown",
   "metadata": {},
   "source": [
    "### Pruning strategy"
   ]
  },
  {
   "cell_type": "code",
   "execution_count": 20,
   "metadata": {},
   "outputs": [
    {
     "name": "stderr",
     "output_type": "stream",
     "text": [
      "/tools/anaconda3/envs/neuralEnv/lib/python3.9/site-packages/tensorflow/python/keras/engine/base_layer.py:2281: UserWarning: `layer.add_variable` is deprecated and will be removed in a future version. Please use `layer.add_weight` method instead.\n",
      "  warnings.warn('`layer.add_variable` is deprecated and '\n"
     ]
    }
   ],
   "source": [
    "final_sparsity = 0.2\n",
    "\n",
    "pruning_params = {\n",
    "                'pruning_schedule': tfmot.sparsity.keras.PolynomialDecay(\n",
    "                initial_sparsity=0, final_sparsity=final_sparsity, begin_step=0, end_step=3000\n",
    "                )\n",
    "            }\n",
    "\n",
    "model_QAP = tfmot.sparsity.keras.prune_low_magnitude(modelQ, **pruning_params)"
   ]
  },
  {
   "cell_type": "code",
   "execution_count": null,
   "metadata": {},
   "outputs": [
    {
     "name": "stdout",
     "output_type": "stream",
     "text": [
      "Epoch 1/32\n",
      "WARNING:tensorflow:AutoGraph could not transform <function Pruning.conditional_mask_update.<locals>.maybe_update_masks at 0x7f8c241c55e0> and will run it as-is.\n",
      "Please report this to the TensorFlow team. When filing the bug, set the verbosity to 10 (on Linux, `export AUTOGRAPH_VERBOSITY=10`) and attach the full output.\n",
      "Cause: module 'gast' has no attribute 'Index'\n",
      "To silence this warning, decorate the function with @tf.autograph.experimental.do_not_convert\n",
      "WARNING: AutoGraph could not transform <function Pruning.conditional_mask_update.<locals>.maybe_update_masks at 0x7f8c241c55e0> and will run it as-is.\n",
      "Please report this to the TensorFlow team. When filing the bug, set the verbosity to 10 (on Linux, `export AUTOGRAPH_VERBOSITY=10`) and attach the full output.\n",
      "Cause: module 'gast' has no attribute 'Index'\n",
      "To silence this warning, decorate the function with @tf.autograph.experimental.do_not_convert\n",
      "WARNING:tensorflow:AutoGraph could not transform <function Pruning.conditional_mask_update.<locals>.maybe_update_masks at 0x7f8c241c5310> and will run it as-is.\n",
      "Please report this to the TensorFlow team. When filing the bug, set the verbosity to 10 (on Linux, `export AUTOGRAPH_VERBOSITY=10`) and attach the full output.\n",
      "Cause: module 'gast' has no attribute 'Index'\n",
      "To silence this warning, decorate the function with @tf.autograph.experimental.do_not_convert\n",
      "WARNING: AutoGraph could not transform <function Pruning.conditional_mask_update.<locals>.maybe_update_masks at 0x7f8c241c5310> and will run it as-is.\n",
      "Please report this to the TensorFlow team. When filing the bug, set the verbosity to 10 (on Linux, `export AUTOGRAPH_VERBOSITY=10`) and attach the full output.\n",
      "Cause: module 'gast' has no attribute 'Index'\n",
      "To silence this warning, decorate the function with @tf.autograph.experimental.do_not_convert\n",
      "WARNING:tensorflow:AutoGraph could not transform <function Pruning.conditional_mask_update.<locals>.maybe_update_masks at 0x7f8c241e0ca0> and will run it as-is.\n",
      "Please report this to the TensorFlow team. When filing the bug, set the verbosity to 10 (on Linux, `export AUTOGRAPH_VERBOSITY=10`) and attach the full output.\n",
      "Cause: module 'gast' has no attribute 'Index'\n",
      "To silence this warning, decorate the function with @tf.autograph.experimental.do_not_convert\n",
      "WARNING: AutoGraph could not transform <function Pruning.conditional_mask_update.<locals>.maybe_update_masks at 0x7f8c241e0ca0> and will run it as-is.\n",
      "Please report this to the TensorFlow team. When filing the bug, set the verbosity to 10 (on Linux, `export AUTOGRAPH_VERBOSITY=10`) and attach the full output.\n",
      "Cause: module 'gast' has no attribute 'Index'\n",
      "To silence this warning, decorate the function with @tf.autograph.experimental.do_not_convert\n",
      "WARNING:tensorflow:AutoGraph could not transform <function Pruning.conditional_mask_update.<locals>.maybe_update_masks at 0x7f8c241c5310> and will run it as-is.\n",
      "Please report this to the TensorFlow team. When filing the bug, set the verbosity to 10 (on Linux, `export AUTOGRAPH_VERBOSITY=10`) and attach the full output.\n",
      "Cause: module 'gast' has no attribute 'Index'\n",
      "To silence this warning, decorate the function with @tf.autograph.experimental.do_not_convert\n",
      "WARNING: AutoGraph could not transform <function Pruning.conditional_mask_update.<locals>.maybe_update_masks at 0x7f8c241c5310> and will run it as-is.\n",
      "Please report this to the TensorFlow team. When filing the bug, set the verbosity to 10 (on Linux, `export AUTOGRAPH_VERBOSITY=10`) and attach the full output.\n",
      "Cause: module 'gast' has no attribute 'Index'\n",
      "To silence this warning, decorate the function with @tf.autograph.experimental.do_not_convert\n",
      "WARNING:tensorflow:AutoGraph could not transform <function Pruning.conditional_mask_update.<locals>.maybe_update_masks at 0x7f8c241e0ca0> and will run it as-is.\n",
      "Please report this to the TensorFlow team. When filing the bug, set the verbosity to 10 (on Linux, `export AUTOGRAPH_VERBOSITY=10`) and attach the full output.\n",
      "Cause: module 'gast' has no attribute 'Index'\n",
      "To silence this warning, decorate the function with @tf.autograph.experimental.do_not_convert\n",
      "WARNING: AutoGraph could not transform <function Pruning.conditional_mask_update.<locals>.maybe_update_masks at 0x7f8c241e0ca0> and will run it as-is.\n",
      "Please report this to the TensorFlow team. When filing the bug, set the verbosity to 10 (on Linux, `export AUTOGRAPH_VERBOSITY=10`) and attach the full output.\n",
      "Cause: module 'gast' has no attribute 'Index'\n",
      "To silence this warning, decorate the function with @tf.autograph.experimental.do_not_convert\n",
      "WARNING:tensorflow:AutoGraph could not transform <function Pruning.conditional_mask_update.<locals>.maybe_update_masks at 0x7f8c241c5310> and will run it as-is.\n",
      "Please report this to the TensorFlow team. When filing the bug, set the verbosity to 10 (on Linux, `export AUTOGRAPH_VERBOSITY=10`) and attach the full output.\n",
      "Cause: module 'gast' has no attribute 'Index'\n",
      "To silence this warning, decorate the function with @tf.autograph.experimental.do_not_convert\n",
      "WARNING: AutoGraph could not transform <function Pruning.conditional_mask_update.<locals>.maybe_update_masks at 0x7f8c241c5310> and will run it as-is.\n",
      "Please report this to the TensorFlow team. When filing the bug, set the verbosity to 10 (on Linux, `export AUTOGRAPH_VERBOSITY=10`) and attach the full output.\n",
      "Cause: module 'gast' has no attribute 'Index'\n",
      "To silence this warning, decorate the function with @tf.autograph.experimental.do_not_convert\n",
      "WARNING:tensorflow:AutoGraph could not transform <function Pruning.conditional_mask_update.<locals>.maybe_update_masks at 0x7f8c241e0700> and will run it as-is.\n",
      "Please report this to the TensorFlow team. When filing the bug, set the verbosity to 10 (on Linux, `export AUTOGRAPH_VERBOSITY=10`) and attach the full output.\n",
      "Cause: module 'gast' has no attribute 'Index'\n",
      "To silence this warning, decorate the function with @tf.autograph.experimental.do_not_convert\n",
      "WARNING: AutoGraph could not transform <function Pruning.conditional_mask_update.<locals>.maybe_update_masks at 0x7f8c241e0700> and will run it as-is.\n",
      "Please report this to the TensorFlow team. When filing the bug, set the verbosity to 10 (on Linux, `export AUTOGRAPH_VERBOSITY=10`) and attach the full output.\n",
      "Cause: module 'gast' has no attribute 'Index'\n",
      "To silence this warning, decorate the function with @tf.autograph.experimental.do_not_convert\n",
      "WARNING:tensorflow:AutoGraph could not transform <function Pruning.conditional_mask_update.<locals>.maybe_update_masks at 0x7f8c240a74c0> and will run it as-is.\n",
      "Please report this to the TensorFlow team. When filing the bug, set the verbosity to 10 (on Linux, `export AUTOGRAPH_VERBOSITY=10`) and attach the full output.\n",
      "Cause: module 'gast' has no attribute 'Index'\n",
      "To silence this warning, decorate the function with @tf.autograph.experimental.do_not_convert\n",
      "WARNING: AutoGraph could not transform <function Pruning.conditional_mask_update.<locals>.maybe_update_masks at 0x7f8c240a74c0> and will run it as-is.\n",
      "Please report this to the TensorFlow team. When filing the bug, set the verbosity to 10 (on Linux, `export AUTOGRAPH_VERBOSITY=10`) and attach the full output.\n",
      "Cause: module 'gast' has no attribute 'Index'\n",
      "To silence this warning, decorate the function with @tf.autograph.experimental.do_not_convert\n",
      "WARNING:tensorflow:AutoGraph could not transform <function Pruning.conditional_mask_update.<locals>.maybe_update_masks at 0x7f8c2422dca0> and will run it as-is.\n",
      "Please report this to the TensorFlow team. When filing the bug, set the verbosity to 10 (on Linux, `export AUTOGRAPH_VERBOSITY=10`) and attach the full output.\n",
      "Cause: module 'gast' has no attribute 'Index'\n",
      "To silence this warning, decorate the function with @tf.autograph.experimental.do_not_convert\n",
      "WARNING: AutoGraph could not transform <function Pruning.conditional_mask_update.<locals>.maybe_update_masks at 0x7f8c2422dca0> and will run it as-is.\n",
      "Please report this to the TensorFlow team. When filing the bug, set the verbosity to 10 (on Linux, `export AUTOGRAPH_VERBOSITY=10`) and attach the full output.\n",
      "Cause: module 'gast' has no attribute 'Index'\n",
      "To silence this warning, decorate the function with @tf.autograph.experimental.do_not_convert\n",
      "WARNING:tensorflow:AutoGraph could not transform <function Pruning.conditional_mask_update.<locals>.maybe_update_masks at 0x7f8c007851f0> and will run it as-is.\n",
      "Please report this to the TensorFlow team. When filing the bug, set the verbosity to 10 (on Linux, `export AUTOGRAPH_VERBOSITY=10`) and attach the full output.\n",
      "Cause: module 'gast' has no attribute 'Index'\n",
      "To silence this warning, decorate the function with @tf.autograph.experimental.do_not_convert\n",
      "WARNING: AutoGraph could not transform <function Pruning.conditional_mask_update.<locals>.maybe_update_masks at 0x7f8c007851f0> and will run it as-is.\n",
      "Please report this to the TensorFlow team. When filing the bug, set the verbosity to 10 (on Linux, `export AUTOGRAPH_VERBOSITY=10`) and attach the full output.\n",
      "Cause: module 'gast' has no attribute 'Index'\n",
      "To silence this warning, decorate the function with @tf.autograph.experimental.do_not_convert\n",
      "WARNING:tensorflow:AutoGraph could not transform <function Pruning.conditional_mask_update.<locals>.maybe_update_masks at 0x7f8c007a7ee0> and will run it as-is.\n",
      "Please report this to the TensorFlow team. When filing the bug, set the verbosity to 10 (on Linux, `export AUTOGRAPH_VERBOSITY=10`) and attach the full output.\n",
      "Cause: module 'gast' has no attribute 'Index'\n",
      "To silence this warning, decorate the function with @tf.autograph.experimental.do_not_convert\n",
      "WARNING: AutoGraph could not transform <function Pruning.conditional_mask_update.<locals>.maybe_update_masks at 0x7f8c007a7ee0> and will run it as-is.\n",
      "Please report this to the TensorFlow team. When filing the bug, set the verbosity to 10 (on Linux, `export AUTOGRAPH_VERBOSITY=10`) and attach the full output.\n",
      "Cause: module 'gast' has no attribute 'Index'\n",
      "To silence this warning, decorate the function with @tf.autograph.experimental.do_not_convert\n",
      "WARNING:tensorflow:AutoGraph could not transform <function Pruning.conditional_mask_update.<locals>.maybe_update_masks at 0x7f8c006a8ca0> and will run it as-is.\n",
      "Please report this to the TensorFlow team. When filing the bug, set the verbosity to 10 (on Linux, `export AUTOGRAPH_VERBOSITY=10`) and attach the full output.\n",
      "Cause: module 'gast' has no attribute 'Index'\n",
      "To silence this warning, decorate the function with @tf.autograph.experimental.do_not_convert\n",
      "WARNING: AutoGraph could not transform <function Pruning.conditional_mask_update.<locals>.maybe_update_masks at 0x7f8c006a8ca0> and will run it as-is.\n",
      "Please report this to the TensorFlow team. When filing the bug, set the verbosity to 10 (on Linux, `export AUTOGRAPH_VERBOSITY=10`) and attach the full output.\n",
      "Cause: module 'gast' has no attribute 'Index'\n",
      "To silence this warning, decorate the function with @tf.autograph.experimental.do_not_convert\n",
      "WARNING:tensorflow:AutoGraph could not transform <function Pruning.conditional_mask_update.<locals>.maybe_update_masks at 0x7f8c007a7dc0> and will run it as-is.\n",
      "Please report this to the TensorFlow team. When filing the bug, set the verbosity to 10 (on Linux, `export AUTOGRAPH_VERBOSITY=10`) and attach the full output.\n",
      "Cause: module 'gast' has no attribute 'Index'\n",
      "To silence this warning, decorate the function with @tf.autograph.experimental.do_not_convert\n",
      "WARNING: AutoGraph could not transform <function Pruning.conditional_mask_update.<locals>.maybe_update_masks at 0x7f8c007a7dc0> and will run it as-is.\n",
      "Please report this to the TensorFlow team. When filing the bug, set the verbosity to 10 (on Linux, `export AUTOGRAPH_VERBOSITY=10`) and attach the full output.\n",
      "Cause: module 'gast' has no attribute 'Index'\n",
      "To silence this warning, decorate the function with @tf.autograph.experimental.do_not_convert\n",
      "WARNING:tensorflow:AutoGraph could not transform <function Pruning.conditional_mask_update.<locals>.maybe_update_masks at 0x7f8c006a8ca0> and will run it as-is.\n",
      "Please report this to the TensorFlow team. When filing the bug, set the verbosity to 10 (on Linux, `export AUTOGRAPH_VERBOSITY=10`) and attach the full output.\n",
      "Cause: module 'gast' has no attribute 'Index'\n",
      "To silence this warning, decorate the function with @tf.autograph.experimental.do_not_convert\n",
      "WARNING: AutoGraph could not transform <function Pruning.conditional_mask_update.<locals>.maybe_update_masks at 0x7f8c006a8ca0> and will run it as-is.\n",
      "Please report this to the TensorFlow team. When filing the bug, set the verbosity to 10 (on Linux, `export AUTOGRAPH_VERBOSITY=10`) and attach the full output.\n",
      "Cause: module 'gast' has no attribute 'Index'\n",
      "To silence this warning, decorate the function with @tf.autograph.experimental.do_not_convert\n",
      "WARNING:tensorflow:AutoGraph could not transform <function Pruning.conditional_mask_update.<locals>.maybe_update_masks at 0x7f8c0054d9d0> and will run it as-is.\n",
      "Please report this to the TensorFlow team. When filing the bug, set the verbosity to 10 (on Linux, `export AUTOGRAPH_VERBOSITY=10`) and attach the full output.\n",
      "Cause: module 'gast' has no attribute 'Index'\n",
      "To silence this warning, decorate the function with @tf.autograph.experimental.do_not_convert\n",
      "WARNING: AutoGraph could not transform <function Pruning.conditional_mask_update.<locals>.maybe_update_masks at 0x7f8c0054d9d0> and will run it as-is.\n",
      "Please report this to the TensorFlow team. When filing the bug, set the verbosity to 10 (on Linux, `export AUTOGRAPH_VERBOSITY=10`) and attach the full output.\n",
      "Cause: module 'gast' has no attribute 'Index'\n",
      "To silence this warning, decorate the function with @tf.autograph.experimental.do_not_convert\n",
      "WARNING:tensorflow:AutoGraph could not transform <function Pruning.conditional_mask_update.<locals>.maybe_update_masks at 0x7f8c006a8ca0> and will run it as-is.\n",
      "Please report this to the TensorFlow team. When filing the bug, set the verbosity to 10 (on Linux, `export AUTOGRAPH_VERBOSITY=10`) and attach the full output.\n",
      "Cause: module 'gast' has no attribute 'Index'\n",
      "To silence this warning, decorate the function with @tf.autograph.experimental.do_not_convert\n",
      "WARNING: AutoGraph could not transform <function Pruning.conditional_mask_update.<locals>.maybe_update_masks at 0x7f8c006a8ca0> and will run it as-is.\n",
      "Please report this to the TensorFlow team. When filing the bug, set the verbosity to 10 (on Linux, `export AUTOGRAPH_VERBOSITY=10`) and attach the full output.\n",
      "Cause: module 'gast' has no attribute 'Index'\n",
      "To silence this warning, decorate the function with @tf.autograph.experimental.do_not_convert\n",
      "100/100 [==============================] - 2s 5ms/step - loss: 0.0330 - accuracy: 0.9926 - val_loss: 0.0218 - val_accuracy: 0.9958\n",
      "Epoch 2/32\n",
      "100/100 [==============================] - 0s 2ms/step - loss: 0.0272 - accuracy: 0.9928 - val_loss: 0.0179 - val_accuracy: 0.9958\n",
      "Epoch 3/32\n",
      "100/100 [==============================] - 0s 2ms/step - loss: 0.0205 - accuracy: 0.9946 - val_loss: 0.0153 - val_accuracy: 0.9953\n",
      "Epoch 4/32\n",
      "100/100 [==============================] - 0s 2ms/step - loss: 0.0184 - accuracy: 0.9943 - val_loss: 0.0140 - val_accuracy: 0.9958\n",
      "Epoch 5/32\n",
      "100/100 [==============================] - 0s 2ms/step - loss: 0.0185 - accuracy: 0.9939 - val_loss: 0.0129 - val_accuracy: 0.9958\n",
      "Epoch 6/32\n",
      "100/100 [==============================] - 0s 2ms/step - loss: 0.0159 - accuracy: 0.9951 - val_loss: 0.0127 - val_accuracy: 0.9958\n",
      "Epoch 7/32\n",
      "100/100 [==============================] - 0s 2ms/step - loss: 0.0161 - accuracy: 0.9948 - val_loss: 0.0117 - val_accuracy: 0.9958\n",
      "Epoch 8/32\n",
      "100/100 [==============================] - 0s 2ms/step - loss: 0.0154 - accuracy: 0.9955 - val_loss: 0.0115 - val_accuracy: 0.9958\n",
      "Epoch 9/32\n",
      "100/100 [==============================] - 0s 2ms/step - loss: 0.0155 - accuracy: 0.9960 - val_loss: 0.0114 - val_accuracy: 0.9958\n",
      "Epoch 10/32\n",
      "100/100 [==============================] - 0s 3ms/step - loss: 0.0150 - accuracy: 0.9953 - val_loss: 0.0116 - val_accuracy: 0.9958\n",
      "Epoch 11/32\n",
      "100/100 [==============================] - 0s 3ms/step - loss: 0.0152 - accuracy: 0.9952 - val_loss: 0.0104 - val_accuracy: 0.9958\n",
      "Epoch 12/32\n",
      "100/100 [==============================] - 0s 3ms/step - loss: 0.0144 - accuracy: 0.9955 - val_loss: 0.0110 - val_accuracy: 0.9958\n",
      "Epoch 13/32\n",
      "100/100 [==============================] - 0s 3ms/step - loss: 0.0146 - accuracy: 0.9952 - val_loss: 0.0113 - val_accuracy: 0.9958\n",
      "Epoch 14/32\n",
      "100/100 [==============================] - 0s 2ms/step - loss: 0.0148 - accuracy: 0.9954 - val_loss: 0.0103 - val_accuracy: 0.9958\n",
      "Epoch 15/32\n",
      "100/100 [==============================] - 0s 2ms/step - loss: 0.0110 - accuracy: 0.9969 - val_loss: 0.0104 - val_accuracy: 0.9958\n",
      "Epoch 16/32\n",
      "100/100 [==============================] - 0s 2ms/step - loss: 0.0111 - accuracy: 0.9962 - val_loss: 0.0100 - val_accuracy: 0.9958\n",
      "Epoch 17/32\n",
      "100/100 [==============================] - 0s 2ms/step - loss: 0.0123 - accuracy: 0.9950 - val_loss: 0.0101 - val_accuracy: 0.9958\n",
      "Epoch 18/32\n",
      "100/100 [==============================] - 0s 3ms/step - loss: 0.0125 - accuracy: 0.9952 - val_loss: 0.0105 - val_accuracy: 0.9958\n",
      "Epoch 19/32\n",
      "100/100 [==============================] - 0s 2ms/step - loss: 0.0104 - accuracy: 0.9967 - val_loss: 0.0099 - val_accuracy: 0.9958\n",
      "Epoch 20/32\n",
      "100/100 [==============================] - 0s 2ms/step - loss: 0.0103 - accuracy: 0.9966 - val_loss: 0.0099 - val_accuracy: 0.9958\n",
      "Epoch 21/32\n",
      "100/100 [==============================] - 0s 2ms/step - loss: 0.0107 - accuracy: 0.9969 - val_loss: 0.0099 - val_accuracy: 0.9963\n",
      "Epoch 22/32\n",
      "100/100 [==============================] - 0s 2ms/step - loss: 0.0107 - accuracy: 0.9968 - val_loss: 0.0104 - val_accuracy: 0.9958\n",
      "Epoch 23/32\n",
      "100/100 [==============================] - 0s 2ms/step - loss: 0.0088 - accuracy: 0.9971 - val_loss: 0.0095 - val_accuracy: 0.9963\n",
      "Epoch 24/32\n",
      "100/100 [==============================] - 0s 3ms/step - loss: 0.0114 - accuracy: 0.9961 - val_loss: 0.0099 - val_accuracy: 0.9963\n",
      "Epoch 25/32\n",
      "100/100 [==============================] - 0s 2ms/step - loss: 0.0110 - accuracy: 0.9964 - val_loss: 0.0098 - val_accuracy: 0.9963\n",
      "Epoch 26/32\n",
      "100/100 [==============================] - 0s 3ms/step - loss: 0.0112 - accuracy: 0.9967 - val_loss: 0.0094 - val_accuracy: 0.9963\n",
      "Epoch 27/32\n",
      "100/100 [==============================] - 0s 3ms/step - loss: 0.0079 - accuracy: 0.9970 - val_loss: 0.0090 - val_accuracy: 0.9963\n",
      "Epoch 28/32\n",
      "100/100 [==============================] - 0s 2ms/step - loss: 0.0086 - accuracy: 0.9971 - val_loss: 0.0092 - val_accuracy: 0.9963\n",
      "Epoch 29/32\n",
      "100/100 [==============================] - 0s 2ms/step - loss: 0.0112 - accuracy: 0.9968 - val_loss: 0.0092 - val_accuracy: 0.9963\n",
      "Epoch 30/32\n",
      "100/100 [==============================] - 0s 3ms/step - loss: 0.0089 - accuracy: 0.9967 - val_loss: 0.0092 - val_accuracy: 0.9963\n",
      "Epoch 31/32\n",
      "100/100 [==============================] - 0s 2ms/step - loss: 0.0096 - accuracy: 0.9969 - val_loss: 0.0088 - val_accuracy: 0.9963\n",
      "Epoch 32/32\n",
      "100/100 [==============================] - 0s 2ms/step - loss: 0.0079 - accuracy: 0.9977 - val_loss: 0.0097 - val_accuracy: 0.9963\n"
     ]
    }
   ],
   "source": [
    "lr = 0.00001\n",
    "op = Adam(lr)\n",
    "loss = \"categorical_crossentropy\"\n",
    "metrics = [\"accuracy\"]\n",
    "epochs=32\n",
    "batch_size=128\n",
    "\n",
    "model_QAP.compile(optimizer=op, loss=loss, metrics=metrics)\n",
    "history_QAP = model_QAP.fit(x_train, y_train_binary, epochs=epochs, batch_size=batch_size, validation_data=(x_test, y_test_binary),callbacks = [tfmot.sparsity.keras.UpdatePruningStep()])"
   ]
  },
  {
   "cell_type": "code",
   "execution_count": 28,
   "metadata": {},
   "outputs": [
    {
     "data": {
      "image/png": "[encoded data removed]",
      "text/plain": [
       "<Figure size 1500x300 with 1 Axes>"
      ]
     },
     "metadata": {},
     "output_type": "display_data"
    }
   ],
   "source": [
    "# Plot accuracy over epochs\n",
    "plt.figure(figsize=(15,3))\n",
    "plt.plot(history_QAP.history['accuracy'], label='Train Accuracy')\n",
    "plt.plot(history_QAP.history['val_accuracy'], label='Validation Accuracy')\n",
    "plt.xlabel('Epochs')\n",
    "plt.ylabel('Accuracy')\n",
    "plt.legend()\n",
    "plt.title('Accuracy over epochs')\n",
    "plt.show()"
   ]
  },
  {
   "cell_type": "code",
   "execution_count": 25,
   "metadata": {},
   "outputs": [
    {
     "data": {
      "image/png": "[encoded data removed]",
      "text/plain": [
       "<Figure size 640x480 with 2 Axes>"
      ]
     },
     "metadata": {},
     "output_type": "display_data"
    }
   ],
   "source": [
    "plt.rcParams.update({'font.size': 14})\n",
    "\n",
    "y_pred_probs = model_QAP.predict(x_test)\n",
    "y_pred = np.argmax(y_pred_probs, axis=1)\n",
    "\n",
    "# Since y_test is one-hot encoded, you need to convert it back to class indices\n",
    "y_true = np.argmax(y_test_binary, axis=1)  # Convert one-hot encoded labels to class indices\n",
    "\n",
    "\n",
    "cm = confusion_matrix(y_true, y_pred)\n",
    "disp = ConfusionMatrixDisplay(confusion_matrix=cm)\n",
    "disp.plot(cmap='Purples')\n",
    "plt.show()\n"
   ]
  },
  {
   "cell_type": "code",
   "execution_count": 29,
   "metadata": {},
   "outputs": [],
   "source": [
    "model_KD = strip_pruning(model_QAP)\n",
    "model_KD.save(\"models/mnistQAP.h5\")"
   ]
  },
  {
   "cell_type": "markdown",
   "metadata": {},
   "source": [
    "### Plot signal for inference @FPGA"
   ]
  },
  {
   "cell_type": "code",
   "execution_count": 30,
   "metadata": {},
   "outputs": [
    {
     "data": {
      "image/png": "[encoded data removed]",
      "text/plain": [
       "<Figure size 640x480 with 2 Axes>"
      ]
     },
     "metadata": {},
     "output_type": "display_data"
    }
   ],
   "source": [
    "signal = [\n",
    "\n",
    "    \t\t\t0,0,0,0,0,0,0,0,0,0,0,0,0,0,0,0,0,0,0,0,0,0,0,0,0,0,0,0,0,0,0,0,0,0,0,0,0,0,0,0,0,0,0,0,0,0,0,0,0,0,0,0,0,0,0,0,0,0,0,0,0,0,0,0,0,0,0,0,0,0,0,0,0,0,0,0,0,0,0,0,0,0,0,0,0,0,0,0,0,0,0,0,0,0,0,0,0,0,0,0,0,0,0,0,0,0,0,0,0,0,0,0,0,0,0,0,0,0,0,0,0,0,0,0,0,0,0,0,0,0,0,0,0,0,0,0,0,0,0,0,0,0,0,0,0,0,0,0,0,0,0,0,0,0,0,0,0,0,0,0,0,0,0,0,0,0,0,0,0,0,0,0,0,0,0,0,0,0,0,0,0,29,141,255,255,255,141,0,0,0,0,0,0,0,0,0,0,0,0,0,0,0,0,0,0,0,0,0,57,255,255,255,226,198,255,170,0,0,0,0,0,0,0,0,0,0,0,0,0,0,0,0,0,0,0,57,255,255,255,114,0,0,29,226,86,0,0,0,0,0,0,0,0,0,0,0,0,0,0,0,0,0,29,226,255,255,86,0,0,0,0,86,255,114,0,0,0,0,0,0,0,0,0,0,0,0,0,0,0,0,170,255,255,86,0,0,0,0,57,226,255,255,0,0,0,0,0,0,0,0,0,0,0,0,0,0,0,114,255,255,141,0,0,0,0,86,255,255,255,170,0,0,0,0,0,0,0,0,0,0,0,0,0,0,141,255,255,86,0,0,0,0,141,255,255,255,226,29,0,0,0,0,0,0,0,0,0,0,0,0,0,0,226,255,170,0,0,0,57,226,255,255,255,255,57,0,0,0,0,0,0,0,0,0,0,0,0,0,0,57,255,255,86,0,0,86,226,255,255,255,255,198,0,0,0,0,0,0,0,0,0,0,0,0,0,0,0,29,226,255,29,57,226,255,255,198,255,255,255,57,0,0,0,0,0,0,0,0,0,0,0,0,0,0,0,0,141,255,255,255,255,255,170,114,255,255,114,0,0,0,0,0,0,0,0,0,0,0,0,0,0,0,0,0,0,226,255,255,255,170,29,198,255,226,0,0,0,0,0,0,0,0,0,0,0,0,0,0,0,0,0,0,0,0,57,29,0,0,86,255,255,114,0,0,0,0,0,0,0,0,0,0,0,0,0,0,0,0,0,0,0,0,0,0,0,0,226,255,198,0,0,0,0,0,0,0,0,0,0,0,0,0,0,0,0,0,0,0,0,0,0,0,0,114,255,255,57,0,0,0,0,0,0,0,0,0,0,0,0,0,0,0,0,0,0,0,0,0,0,0,0,198,255,141,0,0,0,0,0,0,0,0,0,0,0,0,0,0,0,0,0,0,0,0,0,0,0,0,57,255,255,86,0,0,0,0,0,0,0,0,0,0,0,0,0,0,0,0,0,0,0,0,0,0,0,0,141,255,170,0,0,0,0,0,0,0,0,0,0,0,0,0,0,0,0,0,0,0,0,0,0,0,0,0,170,255,86,0,0,0,0,0,0,0,0,0,0,0,0,0,0,0,0,0,0,0,0,0,0,0,0,0,86,226,57,0,0,0,0,0,0,0,0,0,0,0,0,0,0,0,0,0,0,0,0,0,0,0,0,0,0,0,0,0,0,0,0,0,0,0,0,0,0,0,0,0,0,0,0,0,0,0,0,0,0,0,0,0,0,0,0,0,0,0,0,0,0,0,0,0,0,0,0,0\n",
    "\n",
    "    ]\n",
    "\n",
    "imageArray = np.array(signal)\n",
    "image_2d = imageArray.reshape((28, 28))\n",
    "# Display as an image\n",
    "plt.imshow(image_2d, cmap='gray', interpolation='nearest')\n",
    "plt.colorbar()  # Optional: Show color scale\n",
    "plt.show()"
   ]
  },
  {
   "cell_type": "markdown",
   "metadata": {},
   "source": [
    "---\n",
    "#### San Luis, Argentina - 2025\n",
    "\n",
    "Romina Soledad Molina, Ph.D. - MLab/STI ICTP, Trieste, Italy"
   ]
  },
  {
   "cell_type": "markdown",
   "metadata": {},
   "source": []
  }
 ],
 "metadata": {
  "kernelspec": {
   "display_name": "neuralEnv",
   "language": "python",
   "name": "python3"
  },
  "language_info": {
   "codemirror_mode": {
    "name": "ipython",
    "version": 3
   },
   "file_extension": ".py",
   "mimetype": "text/x-python",
   "name": "python",
   "nbconvert_exporter": "python",
   "pygments_lexer": "ipython3",
   "version": "3.9.13"
  }
 },
 "nbformat": 4,
 "nbformat_minor": 2
}
