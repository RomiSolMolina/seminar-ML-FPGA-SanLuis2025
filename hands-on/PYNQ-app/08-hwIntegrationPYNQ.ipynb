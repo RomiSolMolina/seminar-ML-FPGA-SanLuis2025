{
 "cells": [
  {
   "cell_type": "markdown",
   "id": "9aceefcc",
   "metadata": {},
   "source": []
  },
  {
   "cell_type": "markdown",
   "id": "ea194151",
   "metadata": {},
   "source": [
    "# IP core basado en ML integrado con PYNQ framework\n",
    "\n",
    "ComBlock for PYNQ: https://github.com/Mballina42/PynQ_ComBlock\n",
    "\n",
    "For convenience, the *comblock.py* Python script is established which contains useful constants for interacting with the ComBlock."
   ]
  },
  {
   "cell_type": "code",
   "execution_count": null,
   "id": "cf5cf1de",
   "metadata": {},
   "outputs": [],
   "source": [
    "from pynq import Overlay\n",
    "from pynq import MMIO\n",
    "import comblock as cbc\n",
    "\n",
    "import numpy as np\n",
    "import matplotlib.pyplot as plt"
   ]
  },
  {
   "cell_type": "markdown",
   "id": "63f03dd4",
   "metadata": {},
   "source": [
    "## Load Overlay"
   ]
  },
  {
   "cell_type": "code",
   "execution_count": null,
   "id": "f4d848c6",
   "metadata": {},
   "outputs": [],
   "source": [
    "# Load the overlay (bitstream) onto the FPGA. In the Overlays folder, you can choose if you are using a Z1 or Z2 Pynq board.\n",
    "\n",
    "ol = Overlay(\"design_1_wrapper.xsa\")"
   ]
  },
  {
   "cell_type": "markdown",
   "id": "afd720e5",
   "metadata": {},
   "source": [
    "The information from the **comblock_0** block is read to verify everything that is obtained. Since the object is mapped to AXI Lite, it is noted that the AXI Full address is omitted."
   ]
  },
  {
   "cell_type": "code",
   "execution_count": null,
   "id": "6cefd5f6",
   "metadata": {
    "scrolled": true
   },
   "outputs": [],
   "source": [
    "## Overlay information\n",
    "\n",
    "ol.ip_dict"
   ]
  },
  {
   "cell_type": "markdown",
   "id": "86d07f97",
   "metadata": {},
   "source": [
    "## ComBlock information"
   ]
  },
  {
   "cell_type": "code",
   "execution_count": null,
   "id": "e9fd5210",
   "metadata": {},
   "outputs": [],
   "source": [
    "ol.ip_dict['comblock_0']"
   ]
  },
  {
   "cell_type": "code",
   "execution_count": null,
   "id": "58653094",
   "metadata": {},
   "outputs": [],
   "source": [
    "# The object is created based on the comblock_0 IP\n",
    "\n",
    "cb = ol.comblock_0"
   ]
  },
  {
   "cell_type": "markdown",
   "id": "cda75e3b",
   "metadata": {},
   "source": [
    "## HLS IP core based on ML"
   ]
  },
  {
   "cell_type": "code",
   "execution_count": null,
   "id": "e82e908b",
   "metadata": {},
   "outputs": [],
   "source": [
    "hls_ip = ol.inference_0 "
   ]
  },
  {
   "cell_type": "code",
   "execution_count": null,
   "id": "52bfde3a",
   "metadata": {},
   "outputs": [],
   "source": [
    "# Initialize HLS IP core\n",
    "\n",
    "#hls_ip.register_map\n",
    "\n",
    "CONTROL_REGISTER = 0x0\n",
    "hls_ip.write(CONTROL_REGISTER, 0x81) # 0x81 will set bit 0\n"
   ]
  },
  {
   "cell_type": "markdown",
   "id": "e925b506",
   "metadata": {},
   "source": [
    "## Data preparation "
   ]
  },
  {
   "cell_type": "code",
   "execution_count": null,
   "id": "71391840",
   "metadata": {},
   "outputs": [],
   "source": [
    "def float_to_fixed8(x):\n",
    "    \"\"\"Convert float to 8-bit fixed-point (Q0.8 format).\"\"\"\n",
    "    fixed = round(x * 256)  # Scale by 2^8 (256)\n",
    "    fixed = max(-128, min(127, fixed))  # Clamp to 8-bit range (-128 to 127)\n",
    "    return fixed\n",
    "\n",
    "# Example usage\n",
    "float_val = 0.5\n",
    "fixed_val = float_to_fixed8(float_val)\n",
    "print(f\"Fixed-point representation: {fixed_val}\")\n"
   ]
  },
  {
   "cell_type": "code",
   "execution_count": null,
   "id": "13d9b137",
   "metadata": {},
   "outputs": [],
   "source": [
    "from pynq import allocate\n",
    "import numpy as np\n",
    "\n",
    "data_size = 28*28\n",
    "input_buffer_int = allocate(shape=(data_size,), dtype=np.int8)"
   ]
  },
  {
   "cell_type": "code",
   "execution_count": null,
   "id": "b7955734",
   "metadata": {
    "scrolled": false
   },
   "outputs": [],
   "source": [
    "signal = [ \n",
    "            0,   0,   0,   0,   0,   0,   0,   0,   0,   0,   0,   0,   0, 0,   0,   0,   0,   0,   0,   0,   0,   0,   0,   0,   0,   0, 0,   0,   0,   0,   0,   0,   0,   0,   0,   0,   0,   0,   0, 0,   0,   0,   0,   0,   0,   0,   0,   0,   0,   0,   0,   0, 0,   0,   0,   0,   0,   0,   0,   0,   0,   0,   0,   0,   0, 0,   0,   0,   0,   0,   0,   0,   0,   0,   0,   0,   0,   0, 0,   0,   0,   0,   0,   0,   0,   0,   0,   0,   0,   0,   0, 0,   0,   0, 116, 125, 171, 255, 255, 150,  93,   0,   0,   0, 0,   0,   0,   0,   0,   0,   0,   0,   0,   0,   0,   0,   0, 0,   0,   0,   0, 169, 253, 253, 253, 253, 253, 253, 218,  30, 0,   0,   0,   0,   0,   0,   0,   0,   0,   0,   0,   0,   0, 0,   0,   0,   0,   0, 169, 253, 253, 253, 213, 142, 176, 253, 253, 122,   0,   0,   0,   0,   0,   0,   0,   0,   0,   0,   0, 0,   0,   0,   0,   0,   0,  52, 250, 253, 210,  32,  12,   0, 6, 206, 253, 140,   0,   0,   0,   0,   0,   0,   0,   0,   0, 0,   0,   0,   0,   0,   0,   0,   0,  77, 251, 210,  25,   0, 0,   0, 122, 248, 253,  65,   0,   0,   0,   0,   0,   0,   0, 0,   0,   0,   0,   0,   0,   0,   0,   0,   0,   0,  31,  18, 0,   0,   0,   0, 209, 253, 253,  65,   0,   0,   0,   0,   0, 0,   0,   0,   0,   0,   0,   0,   0,   0,   0,   0,   0,   0, 0,   0,   0,   0,   0, 117, 247, 253, 198,  10,   0,   0,   0, 0,   0,   0,   0,   0,   0,   0,   0,   0,   0,   0,   0,   0, 0,   0,   0,   0,   0,   0,  76, 247, 253, 231,  63,   0,   0, 0,   0,   0,   0,   0,   0,   0,   0,   0,   0,   0,   0,   0, 0,   0,   0,   0,   0,   0,   0,   0, 128, 253, 253, 144,   0, 0,   0,   0,   0,   0,   0,   0,   0,   0,   0,   0,   0,   0, 0,   0,   0,   0,   0,   0,   0,   0,   0, 176, 246, 253, 159,  12,   0,   0,   0,   0,   0,   0,   0,   0,   0,   0,   0,   0, 0,   0,   0,   0,   0,   0,   0,   0,   0,   0,  25, 234, 253, 233,  35,   0,   0,   0,   0,   0,   0,   0,   0,   0,   0,   0, 0,   0,   0,   0,   0,   0,   0,   0,   0,   0,   0,   0, 198, 253, 253, 141,   0,   0,   0,   0,   0,   0,   0,   0,   0,   0, 0,   0,   0,   0,   0,   0,   0,   0,   0,   0,   0,   0,   0,  78, 248, 253, 189,  12,   0,   0,   0,   0,   0,   0,   0,   0, 0,   0,   0,   0,   0,   0,   0,   0,   0,   0,   0,   0,   0, 0,  19, 200, 253, 253, 141,   0,   0,   0,   0,   0,   0,   0, 0,   0,   0,   0,   0,   0,   0,   0,   0,   0,   0,   0,   0, 0,   0,   0, 134, 253, 253, 173,  12,   0,   0,   0,   0,   0, 0,   0,   0,   0,   0,   0,   0,   0,   0,   0,   0,   0,   0, 0,   0,   0,   0,   0, 248, 253, 253,  25,   0,   0,   0,   0, 0,   0,   0,   0,   0,   0,   0,   0,   0,   0,   0,   0,   0, 0,   0,   0,   0,   0,   0,   0, 248, 253, 253,  43,  20,  20,  20,  20,   5,   0,   5,  20,  20,  37, 150, 150, 150, 147,  10, 0,   0,   0,   0,   0,   0,   0,   0,   0, 248, 253, 253, 253, 253, 253, 253, 253, 168, 143, 166, 253, 253, 253, 253, 253, 253, 253, 123,   0,   0,   0,   0,   0,   0,   0,   0,   0, 174, 253, 253, 253, 253, 253, 253, 253, 253, 253, 253, 253, 249, 247, 247, 169, 117, 117,  57,   0,   0,   0,   0,   0,   0,   0,   0,   0, 0, 118, 123, 123, 123, 166, 253, 253, 253, 155, 123, 123,  41, 0,   0,   0,   0,   0,   0,   0,   0,   0,   0,   0,   0,   0, 0,   0,   0,   0,   0,   0,   0,   0,   0,   0,   0,   0,   0, 0,   0,   0,   0,   0,   0,   0,   0,   0,   0,   0,   0,   0, 0,   0,   0,   0,   0,   0,   0,   0,   0,   0,   0,   0,   0, 0,   0,   0,   0,   0,   0,   0,   0,   0,   0,   0,   0,   0, 0,   0,   0,   0,   0,   0,   0,   0,   0,   0,   0,   0,   0, 0,   0,   0,   0,   0,   0,   0,   0,   0,   0,   0,   0,   0, 0,   0,   0,   0,   0,   0,   0,   0,   0,   0,   0,   0,   0, 0,   0,   0,   0,   0,   0,   0,   0,   0,   0,   0,   0,   0, 0,   0,   0,   0,   0,   0,   0,   0,   0,   0,   0,   0,   0, 0,   0,   0,   0,   0,   0,   0,   0,   0,   0,   0,   0,   0, 0,   0,   0,   0\n",
    "         ]"
   ]
  },
  {
   "cell_type": "code",
   "execution_count": null,
   "id": "75b73ab3",
   "metadata": {},
   "outputs": [],
   "source": [
    "imageArray = np.array(signal)\n",
    "\n",
    "image_2d = imageArray.reshape((28, 28))\n",
    "\n",
    "# Display as an image\n",
    "plt.imshow(image_2d, cmap='gray', interpolation='nearest')\n",
    "plt.colorbar()  # Optional: Show color scale\n",
    "plt.show()\n"
   ]
  },
  {
   "cell_type": "markdown",
   "id": "5f3bcf56",
   "metadata": {},
   "source": [
    "## Interacting with ComBlock "
   ]
  },
  {
   "cell_type": "markdown",
   "id": "589b94b8",
   "metadata": {},
   "source": [
    "### Write FIFO"
   ]
  },
  {
   "cell_type": "code",
   "execution_count": null,
   "id": "6e95196a",
   "metadata": {
    "scrolled": false
   },
   "outputs": [],
   "source": [
    "# Send data to the ComBlock's FIFO\n",
    "\n",
    "for i in range(data_size):\n",
    "       cb.write(cbc.OFIFO_VALUE, signal[i])\n"
   ]
  },
  {
   "cell_type": "markdown",
   "id": "758c3073",
   "metadata": {},
   "source": [
    "### Read registers"
   ]
  },
  {
   "cell_type": "code",
   "execution_count": null,
   "id": "6225f4e5",
   "metadata": {},
   "outputs": [],
   "source": [
    "# Read IREG1 to obtain the result of the inferece process \n",
    "\n",
    "cb.read(cbc.IREG1)"
   ]
  },
  {
   "cell_type": "code",
   "execution_count": null,
   "id": "7cc6041f",
   "metadata": {},
   "outputs": [],
   "source": [
    "input_buffer_int.dtype"
   ]
  },
  {
   "cell_type": "code",
   "execution_count": null,
   "id": "758012e3",
   "metadata": {},
   "outputs": [],
   "source": []
  }
 ],
 "metadata": {
  "kernelspec": {
   "display_name": "Python 3 (ipykernel)",
   "language": "python",
   "name": "python3"
  },
  "language_info": {
   "codemirror_mode": {
    "name": "ipython",
    "version": 3
   },
   "file_extension": ".py",
   "mimetype": "text/x-python",
   "name": "python",
   "nbconvert_exporter": "python",
   "pygments_lexer": "ipython3",
   "version": "3.10.4"
  }
 },
 "nbformat": 4,
 "nbformat_minor": 5
}
